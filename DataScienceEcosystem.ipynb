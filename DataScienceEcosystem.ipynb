{
 "cells": [
  {
   "cell_type": "markdown",
   "id": "8b9eae1f-444a-4db0-9c93-27e8b87bbc54",
   "metadata": {},
   "source": [
    "# Data Science Tools and Ecosystem"
   ]
  },
  {
   "cell_type": "markdown",
   "id": "da00d6c4-73d1-447e-a3cc-0e95d36b8a9c",
   "metadata": {},
   "source": [
    "In this notebook, Data Science Tools and Ecosystem are summarized."
   ]
  },
  {
   "cell_type": "markdown",
   "id": "6658d8ea-f701-46e9-857d-f30d323761c2",
   "metadata": {},
   "source": [
    "Some of the popular languages that Data Scientists use are:\n",
    "1. Python\n",
    "2. R\n",
    "3. SQL\n",
    "4. Julia"
   ]
  },
  {
   "cell_type": "markdown",
   "id": "1c12724e-755f-4fae-80c8-f26410aa5b7f",
   "metadata": {},
   "source": [
    "Some of the commonly used libraries used by Data Scientists include: \n",
    "1. Pandas\n",
    "2. NumPy\n",
    "3. Scikit-learn\n",
    "4. TensorFlow\n",
    "5. Matplotlib"
   ]
  },
  {
   "cell_type": "markdown",
   "id": "1bf11085-63b5-471c-be67-1100ae5d80c9",
   "metadata": {},
   "source": [
    "| Data Science Tools |\r\n",
    "|--------------------|\r\n",
    "| Jupyter Notebook  |\r\n",
    "| RStudio           |\r\n",
    "| Apache Zeppelin   |\r\n"
   ]
  },
  {
   "cell_type": "markdown",
   "id": "8b2823e5-ed19-4aee-b439-7688a10b9b4f",
   "metadata": {},
   "source": [
    "### Below are a few examples of evaluating arithmetic expressions in Python."
   ]
  },
  {
   "cell_type": "code",
   "execution_count": 1,
   "id": "4fe8fe9b-59e2-40ad-b075-55c873d18951",
   "metadata": {},
   "outputs": [
    {
     "data": {
      "text/plain": [
       "17"
      ]
     },
     "execution_count": 1,
     "metadata": {},
     "output_type": "execute_result"
    }
   ],
   "source": [
    "# This is a simple arithmetic expression to multiply then add integers\n",
    "(3 * 4) + 5\n"
   ]
  },
  {
   "cell_type": "code",
   "execution_count": 3,
   "id": "7c80b30b-e8df-4855-9a65-33bb481e3b67",
   "metadata": {},
   "outputs": [
    {
     "data": {
      "text/plain": [
       "3.3333333333333335"
      ]
     },
     "execution_count": 3,
     "metadata": {},
     "output_type": "execute_result"
    }
   ],
   "source": [
    "# This will convert 200 minutes to hours by dividing by 60\n",
    "200 / 60"
   ]
  },
  {
   "cell_type": "markdown",
   "id": "59bcd555-8d70-4d5d-b629-80b3f6bee18c",
   "metadata": {},
   "source": [
    "**Objectives:**\n",
    "\n",
    "- List popular languages for Data Science\n",
    "- Identify commonly used libraries in Data Science\n",
    "- Introduce Data Science tools\n"
   ]
  },
  {
   "cell_type": "markdown",
   "id": "3c50c5cc-b5c6-4688-b92f-45c459b0a523",
   "metadata": {},
   "source": [
    "## Author\n",
    "Marco"
   ]
  },
  {
   "cell_type": "code",
   "execution_count": null,
   "id": "da3315ba-fff4-46df-8a54-698a3749fcf9",
   "metadata": {},
   "outputs": [],
   "source": []
  }
 ],
 "metadata": {
  "kernelspec": {
   "display_name": "anaconda-panel-2023.05-py310",
   "language": "python",
   "name": "conda-env-anaconda-panel-2023.05-py310-py"
  },
  "language_info": {
   "codemirror_mode": {
    "name": "ipython",
    "version": 3
   },
   "file_extension": ".py",
   "mimetype": "text/x-python",
   "name": "python",
   "nbconvert_exporter": "python",
   "pygments_lexer": "ipython3",
   "version": "3.11.5"
  }
 },
 "nbformat": 4,
 "nbformat_minor": 5
}
